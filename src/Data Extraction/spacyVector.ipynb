{
 "cells": [
  {
   "cell_type": "code",
   "execution_count": 2,
   "metadata": {},
   "outputs": [],
   "source": [
    "import pandas as pd\n",
    "import glob\n",
    "import os\n",
    "import spacy\n",
    "nlp = spacy.load(\"en_core_web_lg\")\n",
    "folder_path = 'C:\\\\Users\\\\hoda2\\\\Documents\\\\NLP Internship\\\\Final Samples'\n",
    "file_list = glob.glob(folder_path + \"/*.txt\")\n",
    "dir_list = os.listdir(folder_path)\n",
    "\n",
    "output = pd.DataFrame({'name':[],'text':[]})\n",
    "for i in range(0,len(file_list)):\n",
    "    with open(file_list[i], 'r', encoding='latin-1') as f:\n",
    "      text = f.read().replace('\\n', '')\n",
    "      new_row = {'name':file_list[i],'text':text}\n",
    "    output = pd.concat([output, pd.DataFrame([new_row])], ignore_index=True)\n",
    "    # output = output.append(new_row, ignore_index=True)\n",
    "output['vector'] = output['text'].apply(lambda x: nlp(x).vector)\n",
    "pd.set_option('display.max_rows', None)\n",
    "output.head()\n",
    "output.to_csv('output.csv', index=False)\n",
    "# output.shape\n",
    "# print(output.size)"
   ]
  }
 ],
 "metadata": {
  "kernelspec": {
   "display_name": "Python 3",
   "language": "python",
   "name": "python3"
  },
  "language_info": {
   "codemirror_mode": {
    "name": "ipython",
    "version": 3
   },
   "file_extension": ".py",
   "mimetype": "text/x-python",
   "name": "python",
   "nbconvert_exporter": "python",
   "pygments_lexer": "ipython3",
   "version": "3.10.11"
  },
  "orig_nbformat": 4
 },
 "nbformat": 4,
 "nbformat_minor": 2
}
