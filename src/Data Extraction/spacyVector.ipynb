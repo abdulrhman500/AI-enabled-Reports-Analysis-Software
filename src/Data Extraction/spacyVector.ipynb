{
 "cells": [
  {
   "cell_type": "code",
   "execution_count": 2,
   "metadata": {
    "is_executing": true
   },
   "outputs": [],
   "source": [
    "import pandas as pd\n",
    "import glob\n",
    "import os\n",
    "import spacy\n",
    "nlp = spacy.load(\"en_core_web_lg\")\n",
    "folder_path = 'Final Samples'\n",
    "file_list = glob.glob(folder_path + \"/*.txt\")\n",
    "dir_list = os.listdir(folder_path)\n",
    "\n",
    "output = pd.DataFrame({'name':[],'text':[]})\n",
    "for i in range(0,len(file_list)):\n",
    "    with open(file_list[i], 'r', encoding='latin-1') as f:\n",
    "      text = f.read().replace('\\n', '')\n",
    "      new_row = {'name':file_list[i],'text':text}\n",
    "    output = pd.concat([output, pd.DataFrame([new_row])], ignore_index=True)\n",
    "    # output = output.append(new_row, ignore_index=True)\n",
    "output['vector'] = output['text'].apply(lambda x: nlp(x).vector)\n",
    "pd.set_option('display.max_rows', None)\n",
    "output.head()\n",
    "output.to_csv('output.csv', index=False)\n",
    "# output.shape\n",
    "# print(output.size)"
   ]
  },
  {
   "cell_type": "code",
   "execution_count": null,
   "metadata": {
    "collapsed": false,
    "is_executing": true,
    "jupyter": {
     "outputs_hidden": false
    }
   },
   "outputs": [],
   "source": []
  },
  {
   "cell_type": "code",
   "execution_count": null,
   "metadata": {
    "ExecuteTime": {
     "end_time": "2023-08-15T17:59:40.975230900Z",
     "start_time": "2023-08-15T17:59:40.969224600Z"
    },
    "collapsed": false,
    "jupyter": {
     "outputs_hidden": false
    }
   },
   "outputs": [],
   "source": []
  },
  {
   "cell_type": "code",
   "execution_count": null,
   "metadata": {
    "collapsed": false,
    "jupyter": {
     "outputs_hidden": false
    }
   },
   "outputs": [],
   "source": []
  }
 ],
 "metadata": {
  "kernelspec": {
   "display_name": "Python 3 (ipykernel)",
   "language": "python",
   "name": "python3"
  },
  "language_info": {
   "codemirror_mode": {
    "name": "ipython",
    "version": 3
   },
   "file_extension": ".py",
   "mimetype": "text/x-python",
   "name": "python",
   "nbconvert_exporter": "python",
   "pygments_lexer": "ipython3",
   "version": "3.10.11"
  }
 },
 "nbformat": 4,
 "nbformat_minor": 4
}
