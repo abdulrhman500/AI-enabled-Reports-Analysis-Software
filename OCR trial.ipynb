{
 "cells": [
  {
   "cell_type": "code",
   "execution_count": null,
   "id": "ff048c04",
   "metadata": {},
   "outputs": [],
   "source": [
    "import os\n",
    "import pytesseract\n",
    "from PIL import Image\n",
    "from pdf2image import convert_from_path\n",
    "\n",
    "def pdf_to_text(pdf_path, start_page=1):\n",
    "    # Convert PDF pages to images\n",
    "    images = convert_from_path(pdf_path)\n",
    "\n",
    "    text = \"\"\n",
    "    for page_num, image in enumerate(images, start=1):\n",
    "        if page_num < start_page:\n",
    "            continue\n",
    "\n",
    "        # Perform OCR on the image to extract text\n",
    "        extracted_text = pytesseract.image_to_string(image, lang='eng')\n",
    "        text += f\"Page {page_num}:\\n{extracted_text}\\n\"\n",
    "\n",
    "    return text\n",
    "\n",
    "if __name__ == \"__main__\":\n",
    "    # Directory containing scanned PDF documents\n",
    "    pdf_directory = \"D:/AI-enabled-Reports-Analysis-Software internship/OCR\"\n",
    "\n",
    "    # Loop through each PDF in the directory\n",
    "    for filename in os.listdir(pdf_directory):\n",
    "        if filename.endswith(\".pdf\"):\n",
    "            pdf_path = os.path.join(pdf_directory, filename)\n",
    "\n",
    "            # Extract text from the PDF\n",
    "            extracted_text = pdf_to_text(pdf_path)\n",
    "\n",
    "            # Save the extracted text to a text file with the same name as the PDF\n",
    "            text_file_path = os.path.splitext(pdf_path)[0] + \".txt\"\n",
    "            with open(text_file_path, \"w\", encoding=\"utf-8\") as text_file:\n",
    "                text_file.write(extracted_text)\n",
    "\n",
    "            print(f\"Text extracted from '{filename}' and saved to '{text_file_path}'\")\n"
   ]
  }
 ],
 "metadata": {
  "kernelspec": {
   "display_name": "Python 3 (ipykernel)",
   "language": "python",
   "name": "python3"
  },
  "language_info": {
   "codemirror_mode": {
    "name": "ipython",
    "version": 3
   },
   "file_extension": ".py",
   "mimetype": "text/x-python",
   "name": "python",
   "nbconvert_exporter": "python",
   "pygments_lexer": "ipython3",
   "version": "3.10.9"
  }
 },
 "nbformat": 4,
 "nbformat_minor": 5
}
