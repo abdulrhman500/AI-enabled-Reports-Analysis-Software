{
 "cells": [
  {
   "cell_type": "markdown",
   "id": "63a590d1",
   "metadata": {},
   "source": [
    "# OCR Single file"
   ]
  },
  {
   "cell_type": "code",
   "execution_count": 1,
   "id": "bbe2c2d6",
   "metadata": {},
   "outputs": [
    {
     "name": "stdout",
     "output_type": "stream",
     "text": [
      "Requirement already satisfied: pytesseract in d:\\bachelor\\anaconda\\lib\\site-packages (0.3.10)\n",
      "Requirement already satisfied: Pillow>=8.0.0 in d:\\bachelor\\anaconda\\lib\\site-packages (from pytesseract) (9.4.0)\n",
      "Requirement already satisfied: packaging>=21.3 in d:\\bachelor\\anaconda\\lib\\site-packages (from pytesseract) (22.0)\n",
      "Requirement already satisfied: pdf2image in d:\\bachelor\\anaconda\\lib\\site-packages (1.16.3)\n",
      "Requirement already satisfied: pillow in d:\\bachelor\\anaconda\\lib\\site-packages (from pdf2image) (9.4.0)\n"
     ]
    }
   ],
   "source": [
    "!pip install pytesseract\n",
    "!pip install pdf2image"
   ]
  },
  {
   "cell_type": "code",
   "execution_count": 2,
   "id": "1834cff6",
   "metadata": {},
   "outputs": [],
   "source": [
    "import pytesseract\n",
    "from PIL import Image\n",
    "from pdf2image import convert_from_path\n",
    "\n",
    "def pdf_to_text(pdf_path, start_page=1):\n",
    "    # Convert PDF pages to images\n",
    "    images = convert_from_path(pdf_path)\n",
    "\n",
    "    text = \"\"\n",
    "    for page_num, image in enumerate(images, start=1):\n",
    "        if page_num < start_page:\n",
    "            continue\n",
    "\n",
    "        # Perform OCR on the image to extract text\n",
    "        extracted_text = pytesseract.image_to_string(image, lang='eng')\n",
    "        text += f\"Page {page_num}:\\n{extracted_text}\\n\"\n",
    "\n",
    "    return text\n",
    "\n",
    "if __name__ == \"__main__\":\n",
    "\n",
    "    ### Change these variables to point to your PDF file and the page number you want to start from\n",
    "    pdf_path = \"D:/AI-enabled-Reports-Analysis-Software internship/OCR/(A) Ahmed_Mahmoud_Mosaad_43_9092 - Ahmed Mahmoud.pdf\"\n",
    "    start_page = 4  # Change this to the page number you want to start from\n",
    "    extracted_text = pdf_to_text(pdf_path, start_page)\n",
    "\n",
    "    # Save the extracted text to a text file\n",
    "    with open(\"output_text.txt\", \"w\", encoding=\"utf-8\") as text_file:\n",
    "        text_file.write(extracted_text)"
   ]
  },
  {
   "cell_type": "markdown",
   "id": "d5bf5fd3",
   "metadata": {},
   "source": [
    "# OCR Loop on folder"
   ]
  },
  {
   "cell_type": "code",
   "execution_count": 4,
   "id": "ff048c04",
   "metadata": {},
   "outputs": [
    {
     "name": "stdout",
     "output_type": "stream",
     "text": [
      "Text extracted from '(A) Ahmed_Mahmoud_Mosaad_43-9092 - Ahmed Mahmoud.pdf' and saved to 'D:/AI-enabled-Reports-Analysis-Software internship/OCR\\(A) Ahmed_Mahmoud_Mosaad_43-9092 - Ahmed Mahmoud.txt'\n",
      "Text extracted from '(A) Ahmed_Mahmoud_Mosaad_43_9092 - Ahmed Mahmoud.pdf' and saved to 'D:/AI-enabled-Reports-Analysis-Software internship/OCR\\(A) Ahmed_Mahmoud_Mosaad_43_9092 - Ahmed Mahmoud.txt'\n",
      "Text extracted from '(A) CamScanner 06-29-2022 06.32 - Khaled Ashraf.pdf' and saved to 'D:/AI-enabled-Reports-Analysis-Software internship/OCR\\(A) CamScanner 06-29-2022 06.32 - Khaled Ashraf.txt'\n",
      "Text extracted from '(A) Ibrahim_Hossam_Megahed_43-13619 - Ibrahim Megahed.pdf' and saved to 'D:/AI-enabled-Reports-Analysis-Software internship/OCR\\(A) Ibrahim_Hossam_Megahed_43-13619 - Ibrahim Megahed.txt'\n",
      "Text extracted from '(A) intern2022 - Ahmed Askora.pdf' and saved to 'D:/AI-enabled-Reports-Analysis-Software internship/OCR\\(A) intern2022 - Ahmed Askora.txt'\n",
      "Text extracted from '(A) internship - Abdelrahman Tolba.pdf' and saved to 'D:/AI-enabled-Reports-Analysis-Software internship/OCR\\(A) internship - Abdelrahman Tolba.txt'\n",
      "Text extracted from '(A) Mariam Emad 43-4623 - mariam emad.pdf' and saved to 'D:/AI-enabled-Reports-Analysis-Software internship/OCR\\(A) Mariam Emad 43-4623 - mariam emad.txt'\n",
      "Text extracted from '(A) Mohamed Ahmed Mohamed Alekhsasy 43-16620  - Mohamed Ahmed.pdf' and saved to 'D:/AI-enabled-Reports-Analysis-Software internship/OCR\\(A) Mohamed Ahmed Mohamed Alekhsasy 43-16620  - Mohamed Ahmed.txt'\n",
      "Text extracted from '(A) Mohamed Youssef 43-16043 - Mohamed Yosef.pdf' and saved to 'D:/AI-enabled-Reports-Analysis-Software internship/OCR\\(A) Mohamed Youssef 43-16043 - Mohamed Yosef.txt'\n",
      "Text extracted from '(A) Mohammad Ehab Mosallam - 43-11068 - Orange Cloud for Business - Mohammad Ehab.pdf' and saved to 'D:/AI-enabled-Reports-Analysis-Software internship/OCR\\(A) Mohammad Ehab Mosallam - 43-11068 - Orange Cloud for Business - Mohammad Ehab.txt'\n",
      "Text extracted from '(A) OmarHanyMohamed43_5802 - Omar Hany.pdf' and saved to 'D:/AI-enabled-Reports-Analysis-Software internship/OCR\\(A) OmarHanyMohamed43_5802 - Omar Hany.txt'\n",
      "Text extracted from '(P) Mohammad Ehab Mosallam - 43-11068 - AREEBAH - Mohammad Ehab.pdf' and saved to 'D:/AI-enabled-Reports-Analysis-Software internship/OCR\\(P) Mohammad Ehab Mosallam - 43-11068 - AREEBAH - Mohammad Ehab.txt'\n"
     ]
    }
   ],
   "source": [
    "import os\n",
    "import pytesseract\n",
    "from PIL import Image\n",
    "from pdf2image import convert_from_path\n",
    "\n",
    "def pdf_to_text(pdf_path, start_page=1):\n",
    "    # Convert PDF pages to images\n",
    "    images = convert_from_path(pdf_path)\n",
    "\n",
    "    text = \"\"\n",
    "    for page_num, image in enumerate(images, start=1):\n",
    "        if page_num < start_page:\n",
    "            continue\n",
    "\n",
    "        # Perform OCR on the image to extract text\n",
    "        extracted_text = pytesseract.image_to_string(image, lang='eng')\n",
    "        text += f\"Page {page_num}:\\n{extracted_text}\\n\"\n",
    "\n",
    "    return text\n",
    "\n",
    "if __name__ == \"__main__\":\n",
    "    # Directory containing scanned PDF documents\n",
    "    pdf_directory = \"D:/AI-enabled-Reports-Analysis-Software internship/OCR\"\n",
    "\n",
    "    # Loop through each PDF in the directory\n",
    "    for filename in os.listdir(pdf_directory):\n",
    "        if filename.endswith(\".pdf\"):\n",
    "            pdf_path = os.path.join(pdf_directory, filename)\n",
    "\n",
    "            # Extract text from the PDF\n",
    "            extracted_text = pdf_to_text(pdf_path)\n",
    "\n",
    "            # Save the extracted text to a text file with the same name as the PDF\n",
    "            text_file_path = os.path.splitext(pdf_path)[0] + \".txt\"\n",
    "            with open(text_file_path, \"w\", encoding=\"utf-8\") as text_file:\n",
    "                text_file.write(extracted_text)\n",
    "\n",
    "            print(f\"Text extracted from '{filename}' and saved to '{text_file_path}'\")\n"
   ]
  },
  {
   "cell_type": "code",
   "execution_count": null,
   "id": "9272c811",
   "metadata": {},
   "outputs": [],
   "source": []
  }
 ],
 "metadata": {
  "kernelspec": {
   "display_name": "Python 3 (ipykernel)",
   "language": "python",
   "name": "python3"
  },
  "language_info": {
   "codemirror_mode": {
    "name": "ipython",
    "version": 3
   },
   "file_extension": ".py",
   "mimetype": "text/x-python",
   "name": "python",
   "nbconvert_exporter": "python",
   "pygments_lexer": "ipython3",
   "version": "3.10.9"
  }
 },
 "nbformat": 4,
 "nbformat_minor": 5
}
